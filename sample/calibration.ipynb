{
 "cells": [
  {
   "cell_type": "code",
   "execution_count": 1,
   "id": "c4fcaa04",
   "metadata": {},
   "outputs": [],
   "source": [
    "import cv2\n",
    "import matplotlib.pyplot as plt\n",
    "import numpy as np\n",
    "import tqdm\n",
    "\n",
    "square_size = 1.75 # 正方形の1辺のサイズ[cm]\n",
    "mov_file = 'calibration.MOV'"
   ]
  },
  {
   "cell_type": "code",
   "execution_count": 3,
   "id": "442a5f3a",
   "metadata": {},
   "outputs": [
    {
     "name": "stderr",
     "output_type": "stream",
     "text": [
      "[Detected 100]:  99%|█████████████████████████████████████████▋| 1531/1541 [00:07<00:00, 207.75it/s]\n"
     ]
    },
    {
     "name": "stdout",
     "output_type": "stream",
     "text": [
      "calculating camera parameter...\n",
      "RMS =  0.9886348928284457\n",
      "mtx = \n",
      " [[1.16900207e+03 0.00000000e+00 1.00991928e+03]\n",
      " [0.00000000e+00 1.18859010e+03 6.43856458e+02]\n",
      " [0.00000000e+00 0.00000000e+00 1.00000000e+00]]\n",
      "dist =  [-4.15195638e-01  1.94341693e-01  1.27695775e-03  3.27689771e-04\n",
      " -4.62271597e-02]\n"
     ]
    }
   ],
   "source": [
    "pattern_size = (7, 7)  # 交差ポイントの数\n",
    "pattern_points = np.zeros( (np.prod(pattern_size), 3), np.float32 ) #チェスボード（X,Y,Z）座標の指定 (Z=0)\n",
    "pattern_points[:,:2] = np.indices(pattern_size).T.reshape(-1, 2)\n",
    "pattern_points *= square_size\n",
    "objpoints = []\n",
    "imgpoints = []\n",
    "\n",
    "cap = cv2.VideoCapture(mov_file)\n",
    "with tqdm.tqdm(total=int(cap.get(cv2.CAP_PROP_FRAME_COUNT)), ncols=100) as bar:\n",
    "    for ii in range(int(cap.get(cv2.CAP_PROP_FRAME_COUNT))):\n",
    "        bar.update(1)\n",
    "        ret, img = cap.read()\n",
    "        if not ret:\n",
    "            break\n",
    "        if (ii % int(cap.get(cv2.CAP_PROP_FPS)/2)) <= 0:\n",
    "            height = img.shape[0]\n",
    "            width = img.shape[1]\n",
    "\n",
    "            gray = cv2.cvtColor(img, cv2.COLOR_BGR2GRAY)\n",
    "\n",
    "            ret, corner = cv2.findChessboardCorners(gray, pattern_size)\n",
    "            # コーナーがあれば\n",
    "            if ret == True:\n",
    "                bar.set_description(\"[Detected %d]\" % (len(objpoints)+1))\n",
    "                term = (cv2.TERM_CRITERIA_EPS + cv2.TERM_CRITERIA_COUNT, 30, 0.1)\n",
    "                cv2.cornerSubPix(gray, corner, (5,5), (-1,-1), term)\n",
    "                imgpoints.append(corner.reshape(-1, 2))   #appendメソッド：リストの最後に因数のオブジェクトを追加\n",
    "                objpoints.append(pattern_points)\n",
    "        \n",
    "    \n",
    "cap.release()\n",
    "\n",
    "print(\"calculating camera parameter...\")\n",
    "# 内部パラメータを計算\n",
    "ret, mtx, dist, rvecs, tvecs = cv2.calibrateCamera(objpoints, imgpoints, gray.shape[::-1], None, None)\n",
    "\n",
    "print(\"RMS = \", ret)\n",
    "print(\"mtx = \\n\", mtx)\n",
    "print(\"dist = \", dist.ravel())"
   ]
  },
  {
   "cell_type": "code",
   "execution_count": null,
   "id": "2cb5143e",
   "metadata": {},
   "outputs": [],
   "source": []
  }
 ],
 "metadata": {
  "kernelspec": {
   "display_name": "Python 3 (ipykernel)",
   "language": "python",
   "name": "python3"
  },
  "language_info": {
   "codemirror_mode": {
    "name": "ipython",
    "version": 3
   },
   "file_extension": ".py",
   "mimetype": "text/x-python",
   "name": "python",
   "nbconvert_exporter": "python",
   "pygments_lexer": "ipython3",
   "version": "3.7.7"
  }
 },
 "nbformat": 4,
 "nbformat_minor": 5
}
